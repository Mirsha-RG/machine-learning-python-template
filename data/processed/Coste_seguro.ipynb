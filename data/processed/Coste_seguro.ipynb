{
  "nbformat": 4,
  "nbformat_minor": 0,
  "metadata": {
    "colab": {
      "provenance": [],
      "authorship_tag": "ABX9TyNdC94JQutMFP3O4cD2xCX+",
      "include_colab_link": true
    },
    "kernelspec": {
      "name": "python3",
      "display_name": "Python 3"
    },
    "language_info": {
      "name": "python"
    }
  },
  "cells": [
    {
      "cell_type": "markdown",
      "metadata": {
        "id": "view-in-github",
        "colab_type": "text"
      },
      "source": [
        "<a href=\"https://colab.research.google.com/github/Mirsha-RG/machine-learning-python-template/blob/main/Coste_seguro.ipynb\" target=\"_parent\"><img src=\"https://colab.research.google.com/assets/colab-badge.svg\" alt=\"Open In Colab\"/></a>"
      ]
    },
    {
      "cell_type": "code",
      "source": [
        "#!pip install rapidfuzz>NULL"
      ],
      "metadata": {
        "id": "DSfkL4qbPgvb"
      },
      "execution_count": 57,
      "outputs": []
    },
    {
      "cell_type": "code",
      "execution_count": 58,
      "metadata": {
        "id": "CAplweFiHDI_"
      },
      "outputs": [],
      "source": [
        "import pandas as pd\n",
        "import numpy as np\n",
        "import re\n",
        "from rapidfuzz import process, fuzz\n"
      ]
    },
    {
      "cell_type": "code",
      "source": [
        "url = 'https://raw.githubusercontent.com/4GeeksAcademy/linear-regression-project-tutorial/main/medical_insurance_cost.csv'\n"
      ],
      "metadata": {
        "id": "vG5JECxyHGi-"
      },
      "execution_count": 59,
      "outputs": []
    },
    {
      "cell_type": "code",
      "source": [
        "df = pd.read_csv(url)\n",
        "#df.dtypes\n",
        "#df.info()\n",
        "df.columns\n"
      ],
      "metadata": {
        "colab": {
          "base_uri": "https://localhost:8080/"
        },
        "id": "yO9J5OBlHJK6",
        "outputId": "ac8e7c19-6d56-447d-b457-71246c1d8da2"
      },
      "execution_count": 60,
      "outputs": [
        {
          "output_type": "execute_result",
          "data": {
            "text/plain": [
              "Index(['age', 'sex', 'bmi', 'children', 'smoker', 'region', 'charges'], dtype='object')"
            ]
          },
          "metadata": {},
          "execution_count": 60
        }
      ]
    },
    {
      "cell_type": "code",
      "source": [
        "def columnas_con_tipo_incorrecto(df, tipos_esperados=['float64', 'object', 'int64']):\n",
        "    columnas_erroneas = []\n",
        "\n",
        "    for col in df.columns:\n",
        "        if df[col].dtype.name not in tipos_esperados:\n",
        "            columnas_erroneas.append(col)\n",
        "\n",
        "\n",
        "    return columnas_erroneas\n",
        "\n",
        "columnas_malas = columnas_con_tipo_incorrecto(df)\n",
        "\n",
        "if columnas_malas:\n",
        "    print(\"Estas columnas tienen tipos distintos a float u object:\")\n",
        "    print(columnas_malas)\n",
        "else:\n",
        "    print(\"Todas las columnas tienen tipo float, int u object.\")\n",
        "\n",
        "columnas_con_tipo_incorrecto(df)"
      ],
      "metadata": {
        "colab": {
          "base_uri": "https://localhost:8080/"
        },
        "id": "U0B9Fp5CNcBr",
        "outputId": "c29a8842-8d6b-4d8e-b7f5-74407fbdbf88"
      },
      "execution_count": 61,
      "outputs": [
        {
          "output_type": "stream",
          "name": "stdout",
          "text": [
            "Todas las columnas tienen tipo float, int u object.\n"
          ]
        },
        {
          "output_type": "execute_result",
          "data": {
            "text/plain": [
              "[]"
            ]
          },
          "metadata": {},
          "execution_count": 61
        }
      ]
    },
    {
      "cell_type": "code",
      "source": [
        "# estandarizar los strings en todas las variables de tipo object.\n",
        "\n",
        "def estandarizar_texto(texto):\n",
        "    \"\"\"\n",
        "    Limpia texto usando regex y lo estandariza: minúsculas, sin tildes ni símbolos.\n",
        "    También convierte algunas etiquetas comunes a np.nan.\n",
        "    \"\"\"\n",
        "    if pd.isnull(texto):\n",
        "        return np.nan\n",
        "    texto = str(texto).lower()\n",
        "    texto = re.sub(r'[\\W_]+', ' ', texto)  # elimina símbolos y underscores\n",
        "    texto = texto.strip()\n",
        "    if texto in ['nan', 'n a', 'na', 'no registra', 'no_registra', 'no']:\n",
        "        return np.nan\n",
        "    return texto\n",
        "\n",
        "def reemplazo_fuzzy(columna, umbral=85):\n",
        "    \"\"\"\n",
        "    Usa lógica fuzzy para reemplazar strings similares en una columna.\n",
        "    \"\"\"\n",
        "    valores_unicos = columna.dropna().unique()\n",
        "    valores_estandar = []\n",
        "\n",
        "    for val in valores_unicos:\n",
        "        val_limpio = estandarizar_texto(val)\n",
        "\n",
        "        if not valores_estandar:\n",
        "            valores_estandar.append(val_limpio)\n",
        "            columna = columna.replace(val, val_limpio)\n",
        "            continue\n",
        "\n",
        "        resultado = process.extractOne(val_limpio, valores_estandar, scorer=fuzz.ratio)\n",
        "\n",
        "        if resultado is not None:\n",
        "            coincidencia, score, _ = resultado\n",
        "            if score >= umbral:\n",
        "                columna = columna.replace(val, coincidencia)\n",
        "            else:\n",
        "                valores_estandar.append(val_limpio)\n",
        "                columna = columna.replace(val, val_limpio)\n",
        "        else:\n",
        "            valores_estandar.append(val_limpio)\n",
        "            columna = columna.replace(val, val_limpio)\n",
        "\n",
        "    return columna\n",
        "\n",
        "def estandarizar_variables_object(df):\n",
        "    \"\"\"\n",
        "    Aplica limpieza y estandarización fuzzy a todas las columnas de texto del DataFrame.\n",
        "    \"\"\"\n",
        "    df_limpio = df.copy()\n",
        "\n",
        "    for col in df_limpio.select_dtypes(include='object').columns:\n",
        "        df_limpio[col] = df_limpio[col].astype(str).apply(estandarizar_texto)\n",
        "        df_limpio[col] = reemplazo_fuzzy(df_limpio[col])\n",
        "\n",
        "    return df_limpio"
      ],
      "metadata": {
        "id": "jMfEhkk-PsFS"
      },
      "execution_count": 62,
      "outputs": []
    },
    {
      "cell_type": "code",
      "source": [
        "df_limpio = estandarizar_variables_object(df)"
      ],
      "metadata": {
        "id": "KtoS28VwQCTE"
      },
      "execution_count": 63,
      "outputs": []
    },
    {
      "cell_type": "code",
      "source": [
        "df_limpio['sex'].unique()"
      ],
      "metadata": {
        "colab": {
          "base_uri": "https://localhost:8080/"
        },
        "id": "Wz_drqigOprb",
        "outputId": "23fe7084-2a74-4bb5-f141-b236f3eeee84"
      },
      "execution_count": 64,
      "outputs": [
        {
          "output_type": "execute_result",
          "data": {
            "text/plain": [
              "array(['female', 'male'], dtype=object)"
            ]
          },
          "metadata": {},
          "execution_count": 64
        }
      ]
    },
    {
      "cell_type": "code",
      "source": [
        "# agregar columna con sexo en  binario fem 0, male 1\n",
        "\n",
        "df_limpio['sex_bin'] = df['sex'].map({'male': 1, 'female': 0})"
      ],
      "metadata": {
        "id": "I189qM_gOybD"
      },
      "execution_count": 65,
      "outputs": []
    },
    {
      "cell_type": "code",
      "source": [
        "# revisar que no hay celdas vacias.\n",
        "df_limpio.select_dtypes(include='object').applymap(lambda x: isinstance(x, str) and x.strip() == '').any()\n"
      ],
      "metadata": {
        "colab": {
          "base_uri": "https://localhost:8080/",
          "height": 213
        },
        "id": "Pjrl-aboQYOy",
        "outputId": "374fcffe-0202-4d25-c871-44bcde887935"
      },
      "execution_count": 66,
      "outputs": [
        {
          "output_type": "stream",
          "name": "stderr",
          "text": [
            "/tmp/ipython-input-66-2571914426.py:2: FutureWarning: DataFrame.applymap has been deprecated. Use DataFrame.map instead.\n",
            "  df_limpio.select_dtypes(include='object').applymap(lambda x: isinstance(x, str) and x.strip() == '').any()\n"
          ]
        },
        {
          "output_type": "execute_result",
          "data": {
            "text/plain": [
              "sex       False\n",
              "smoker    False\n",
              "region    False\n",
              "dtype: bool"
            ],
            "text/html": [
              "<div>\n",
              "<style scoped>\n",
              "    .dataframe tbody tr th:only-of-type {\n",
              "        vertical-align: middle;\n",
              "    }\n",
              "\n",
              "    .dataframe tbody tr th {\n",
              "        vertical-align: top;\n",
              "    }\n",
              "\n",
              "    .dataframe thead th {\n",
              "        text-align: right;\n",
              "    }\n",
              "</style>\n",
              "<table border=\"1\" class=\"dataframe\">\n",
              "  <thead>\n",
              "    <tr style=\"text-align: right;\">\n",
              "      <th></th>\n",
              "      <th>0</th>\n",
              "    </tr>\n",
              "  </thead>\n",
              "  <tbody>\n",
              "    <tr>\n",
              "      <th>sex</th>\n",
              "      <td>False</td>\n",
              "    </tr>\n",
              "    <tr>\n",
              "      <th>smoker</th>\n",
              "      <td>False</td>\n",
              "    </tr>\n",
              "    <tr>\n",
              "      <th>region</th>\n",
              "      <td>False</td>\n",
              "    </tr>\n",
              "  </tbody>\n",
              "</table>\n",
              "</div><br><label><b>dtype:</b> bool</label>"
            ]
          },
          "metadata": {},
          "execution_count": 66
        }
      ]
    },
    {
      "cell_type": "code",
      "source": [
        "# Elimina espacios al principio y final en todas las columnas tipo texto\n",
        "df_limpio[df_limpio.select_dtypes(include='object').columns] = df.select_dtypes(include='object').apply(lambda col: col.str.strip())"
      ],
      "metadata": {
        "id": "rhuMG7jgQ-Jb"
      },
      "execution_count": 67,
      "outputs": []
    },
    {
      "cell_type": "code",
      "source": [
        "num_cols = df.select_dtypes(include=['int64','float64'])\n",
        "\n",
        "print(\"Nulos:\\n\", num_cols.isnull().sum())\n",
        "print(\"Infinito:\\n\", num_cols.applymap(np.isinf).any())\n",
        "print(\"Negativos:\\n\", num_cols.lt(0).any())\n",
        "print(\"Ceros:\\n\", num_cols.eq(0).any())"
      ],
      "metadata": {
        "colab": {
          "base_uri": "https://localhost:8080/"
        },
        "collapsed": true,
        "id": "xOW30PAsRO6i",
        "outputId": "de054390-3d7c-4395-f7f4-b4182b3f4431"
      },
      "execution_count": 68,
      "outputs": [
        {
          "output_type": "stream",
          "name": "stdout",
          "text": [
            "Nulos:\n",
            " age         0\n",
            "bmi         0\n",
            "children    0\n",
            "charges     0\n",
            "dtype: int64\n",
            "Infinito:\n",
            " age         False\n",
            "bmi         False\n",
            "children    False\n",
            "charges     False\n",
            "dtype: bool\n",
            "Negativos:\n",
            " age         False\n",
            "bmi         False\n",
            "children    False\n",
            "charges     False\n",
            "dtype: bool\n",
            "Ceros:\n",
            " age         False\n",
            "bmi         False\n",
            "children     True\n",
            "charges     False\n",
            "dtype: bool\n"
          ]
        },
        {
          "output_type": "stream",
          "name": "stderr",
          "text": [
            "/tmp/ipython-input-68-368559398.py:4: FutureWarning: DataFrame.applymap has been deprecated. Use DataFrame.map instead.\n",
            "  print(\"Infinito:\\n\", num_cols.applymap(np.isinf).any())\n"
          ]
        }
      ]
    },
    {
      "cell_type": "code",
      "source": [
        "#convertir smoker en binario\n",
        "df_limpio['smoker_bin']= df_limpio['smoker'].map({'yes':1, 'no':0})"
      ],
      "metadata": {
        "id": "jFmQYQWGTQET"
      },
      "execution_count": 69,
      "outputs": []
    },
    {
      "cell_type": "code",
      "source": [
        "#df_limpio['region'].unique()\n"
      ],
      "metadata": {
        "id": "T42DjValTRjz"
      },
      "execution_count": 74,
      "outputs": []
    },
    {
      "cell_type": "code",
      "source": [
        "#df_limpio = pd.get_dummies(df_limpio, columns=['region'], prefix='region')\n",
        "df_limpio.columns\n",
        "\n"
      ],
      "metadata": {
        "colab": {
          "base_uri": "https://localhost:8080/"
        },
        "id": "nDvss2NXTsT9",
        "outputId": "a2cd68d8-e18e-4691-8937-7c50edd95d6d"
      },
      "execution_count": 76,
      "outputs": [
        {
          "output_type": "execute_result",
          "data": {
            "text/plain": [
              "Index(['age', 'sex', 'bmi', 'children', 'smoker', 'charges', 'sex_bin',\n",
              "       'smoker_bin', 'region_northeast', 'region_northwest',\n",
              "       'region_southeast', 'region_southwest'],\n",
              "      dtype='object')"
            ]
          },
          "metadata": {},
          "execution_count": 76
        }
      ]
    },
    {
      "cell_type": "code",
      "source": [
        "\"\"\"\n",
        "from sklearn.model_selection import train_test_split\n",
        "\n",
        "X = df[['age', 'bmi']]      # variables predictoras\n",
        "y = df['charges']           # variable objetivo\n",
        "\n",
        "X_train, X_test, y_train, y_test = train_test_split(X, y, test_size=0.2, random_state=42)\n",
        "\"\"\"\n"
      ],
      "metadata": {
        "id": "Rq5Iany9WXkj"
      },
      "execution_count": null,
      "outputs": []
    },
    {
      "cell_type": "code",
      "source": [
        "df_limpio.describe()"
      ],
      "metadata": {
        "colab": {
          "base_uri": "https://localhost:8080/",
          "height": 300
        },
        "id": "ygX0a4n_W_b0",
        "outputId": "7e93fc8b-2c44-4523-aa2f-7ac310bfa2d0"
      },
      "execution_count": 73,
      "outputs": [
        {
          "output_type": "execute_result",
          "data": {
            "text/plain": [
              "               age          bmi     children       charges      sex_bin  \\\n",
              "count  1338.000000  1338.000000  1338.000000   1338.000000  1338.000000   \n",
              "mean     39.207025    30.663397     1.094918  13270.422265     0.505232   \n",
              "std      14.049960     6.098187     1.205493  12110.011237     0.500160   \n",
              "min      18.000000    15.960000     0.000000   1121.873900     0.000000   \n",
              "25%      27.000000    26.296250     0.000000   4740.287150     0.000000   \n",
              "50%      39.000000    30.400000     1.000000   9382.033000     1.000000   \n",
              "75%      51.000000    34.693750     2.000000  16639.912515     1.000000   \n",
              "max      64.000000    53.130000     5.000000  63770.428010     1.000000   \n",
              "\n",
              "        smoker_bin  \n",
              "count  1338.000000  \n",
              "mean      0.204783  \n",
              "std       0.403694  \n",
              "min       0.000000  \n",
              "25%       0.000000  \n",
              "50%       0.000000  \n",
              "75%       0.000000  \n",
              "max       1.000000  "
            ],
            "text/html": [
              "\n",
              "  <div id=\"df-03f366be-9637-4eae-80d2-bf9bb810dc40\" class=\"colab-df-container\">\n",
              "    <div>\n",
              "<style scoped>\n",
              "    .dataframe tbody tr th:only-of-type {\n",
              "        vertical-align: middle;\n",
              "    }\n",
              "\n",
              "    .dataframe tbody tr th {\n",
              "        vertical-align: top;\n",
              "    }\n",
              "\n",
              "    .dataframe thead th {\n",
              "        text-align: right;\n",
              "    }\n",
              "</style>\n",
              "<table border=\"1\" class=\"dataframe\">\n",
              "  <thead>\n",
              "    <tr style=\"text-align: right;\">\n",
              "      <th></th>\n",
              "      <th>age</th>\n",
              "      <th>bmi</th>\n",
              "      <th>children</th>\n",
              "      <th>charges</th>\n",
              "      <th>sex_bin</th>\n",
              "      <th>smoker_bin</th>\n",
              "    </tr>\n",
              "  </thead>\n",
              "  <tbody>\n",
              "    <tr>\n",
              "      <th>count</th>\n",
              "      <td>1338.000000</td>\n",
              "      <td>1338.000000</td>\n",
              "      <td>1338.000000</td>\n",
              "      <td>1338.000000</td>\n",
              "      <td>1338.000000</td>\n",
              "      <td>1338.000000</td>\n",
              "    </tr>\n",
              "    <tr>\n",
              "      <th>mean</th>\n",
              "      <td>39.207025</td>\n",
              "      <td>30.663397</td>\n",
              "      <td>1.094918</td>\n",
              "      <td>13270.422265</td>\n",
              "      <td>0.505232</td>\n",
              "      <td>0.204783</td>\n",
              "    </tr>\n",
              "    <tr>\n",
              "      <th>std</th>\n",
              "      <td>14.049960</td>\n",
              "      <td>6.098187</td>\n",
              "      <td>1.205493</td>\n",
              "      <td>12110.011237</td>\n",
              "      <td>0.500160</td>\n",
              "      <td>0.403694</td>\n",
              "    </tr>\n",
              "    <tr>\n",
              "      <th>min</th>\n",
              "      <td>18.000000</td>\n",
              "      <td>15.960000</td>\n",
              "      <td>0.000000</td>\n",
              "      <td>1121.873900</td>\n",
              "      <td>0.000000</td>\n",
              "      <td>0.000000</td>\n",
              "    </tr>\n",
              "    <tr>\n",
              "      <th>25%</th>\n",
              "      <td>27.000000</td>\n",
              "      <td>26.296250</td>\n",
              "      <td>0.000000</td>\n",
              "      <td>4740.287150</td>\n",
              "      <td>0.000000</td>\n",
              "      <td>0.000000</td>\n",
              "    </tr>\n",
              "    <tr>\n",
              "      <th>50%</th>\n",
              "      <td>39.000000</td>\n",
              "      <td>30.400000</td>\n",
              "      <td>1.000000</td>\n",
              "      <td>9382.033000</td>\n",
              "      <td>1.000000</td>\n",
              "      <td>0.000000</td>\n",
              "    </tr>\n",
              "    <tr>\n",
              "      <th>75%</th>\n",
              "      <td>51.000000</td>\n",
              "      <td>34.693750</td>\n",
              "      <td>2.000000</td>\n",
              "      <td>16639.912515</td>\n",
              "      <td>1.000000</td>\n",
              "      <td>0.000000</td>\n",
              "    </tr>\n",
              "    <tr>\n",
              "      <th>max</th>\n",
              "      <td>64.000000</td>\n",
              "      <td>53.130000</td>\n",
              "      <td>5.000000</td>\n",
              "      <td>63770.428010</td>\n",
              "      <td>1.000000</td>\n",
              "      <td>1.000000</td>\n",
              "    </tr>\n",
              "  </tbody>\n",
              "</table>\n",
              "</div>\n",
              "    <div class=\"colab-df-buttons\">\n",
              "\n",
              "  <div class=\"colab-df-container\">\n",
              "    <button class=\"colab-df-convert\" onclick=\"convertToInteractive('df-03f366be-9637-4eae-80d2-bf9bb810dc40')\"\n",
              "            title=\"Convert this dataframe to an interactive table.\"\n",
              "            style=\"display:none;\">\n",
              "\n",
              "  <svg xmlns=\"http://www.w3.org/2000/svg\" height=\"24px\" viewBox=\"0 -960 960 960\">\n",
              "    <path d=\"M120-120v-720h720v720H120Zm60-500h600v-160H180v160Zm220 220h160v-160H400v160Zm0 220h160v-160H400v160ZM180-400h160v-160H180v160Zm440 0h160v-160H620v160ZM180-180h160v-160H180v160Zm440 0h160v-160H620v160Z\"/>\n",
              "  </svg>\n",
              "    </button>\n",
              "\n",
              "  <style>\n",
              "    .colab-df-container {\n",
              "      display:flex;\n",
              "      gap: 12px;\n",
              "    }\n",
              "\n",
              "    .colab-df-convert {\n",
              "      background-color: #E8F0FE;\n",
              "      border: none;\n",
              "      border-radius: 50%;\n",
              "      cursor: pointer;\n",
              "      display: none;\n",
              "      fill: #1967D2;\n",
              "      height: 32px;\n",
              "      padding: 0 0 0 0;\n",
              "      width: 32px;\n",
              "    }\n",
              "\n",
              "    .colab-df-convert:hover {\n",
              "      background-color: #E2EBFA;\n",
              "      box-shadow: 0px 1px 2px rgba(60, 64, 67, 0.3), 0px 1px 3px 1px rgba(60, 64, 67, 0.15);\n",
              "      fill: #174EA6;\n",
              "    }\n",
              "\n",
              "    .colab-df-buttons div {\n",
              "      margin-bottom: 4px;\n",
              "    }\n",
              "\n",
              "    [theme=dark] .colab-df-convert {\n",
              "      background-color: #3B4455;\n",
              "      fill: #D2E3FC;\n",
              "    }\n",
              "\n",
              "    [theme=dark] .colab-df-convert:hover {\n",
              "      background-color: #434B5C;\n",
              "      box-shadow: 0px 1px 3px 1px rgba(0, 0, 0, 0.15);\n",
              "      filter: drop-shadow(0px 1px 2px rgba(0, 0, 0, 0.3));\n",
              "      fill: #FFFFFF;\n",
              "    }\n",
              "  </style>\n",
              "\n",
              "    <script>\n",
              "      const buttonEl =\n",
              "        document.querySelector('#df-03f366be-9637-4eae-80d2-bf9bb810dc40 button.colab-df-convert');\n",
              "      buttonEl.style.display =\n",
              "        google.colab.kernel.accessAllowed ? 'block' : 'none';\n",
              "\n",
              "      async function convertToInteractive(key) {\n",
              "        const element = document.querySelector('#df-03f366be-9637-4eae-80d2-bf9bb810dc40');\n",
              "        const dataTable =\n",
              "          await google.colab.kernel.invokeFunction('convertToInteractive',\n",
              "                                                    [key], {});\n",
              "        if (!dataTable) return;\n",
              "\n",
              "        const docLinkHtml = 'Like what you see? Visit the ' +\n",
              "          '<a target=\"_blank\" href=https://colab.research.google.com/notebooks/data_table.ipynb>data table notebook</a>'\n",
              "          + ' to learn more about interactive tables.';\n",
              "        element.innerHTML = '';\n",
              "        dataTable['output_type'] = 'display_data';\n",
              "        await google.colab.output.renderOutput(dataTable, element);\n",
              "        const docLink = document.createElement('div');\n",
              "        docLink.innerHTML = docLinkHtml;\n",
              "        element.appendChild(docLink);\n",
              "      }\n",
              "    </script>\n",
              "  </div>\n",
              "\n",
              "\n",
              "    <div id=\"df-604950bd-911e-45a9-8b27-3bc3852b4252\">\n",
              "      <button class=\"colab-df-quickchart\" onclick=\"quickchart('df-604950bd-911e-45a9-8b27-3bc3852b4252')\"\n",
              "                title=\"Suggest charts\"\n",
              "                style=\"display:none;\">\n",
              "\n",
              "<svg xmlns=\"http://www.w3.org/2000/svg\" height=\"24px\"viewBox=\"0 0 24 24\"\n",
              "     width=\"24px\">\n",
              "    <g>\n",
              "        <path d=\"M19 3H5c-1.1 0-2 .9-2 2v14c0 1.1.9 2 2 2h14c1.1 0 2-.9 2-2V5c0-1.1-.9-2-2-2zM9 17H7v-7h2v7zm4 0h-2V7h2v10zm4 0h-2v-4h2v4z\"/>\n",
              "    </g>\n",
              "</svg>\n",
              "      </button>\n",
              "\n",
              "<style>\n",
              "  .colab-df-quickchart {\n",
              "      --bg-color: #E8F0FE;\n",
              "      --fill-color: #1967D2;\n",
              "      --hover-bg-color: #E2EBFA;\n",
              "      --hover-fill-color: #174EA6;\n",
              "      --disabled-fill-color: #AAA;\n",
              "      --disabled-bg-color: #DDD;\n",
              "  }\n",
              "\n",
              "  [theme=dark] .colab-df-quickchart {\n",
              "      --bg-color: #3B4455;\n",
              "      --fill-color: #D2E3FC;\n",
              "      --hover-bg-color: #434B5C;\n",
              "      --hover-fill-color: #FFFFFF;\n",
              "      --disabled-bg-color: #3B4455;\n",
              "      --disabled-fill-color: #666;\n",
              "  }\n",
              "\n",
              "  .colab-df-quickchart {\n",
              "    background-color: var(--bg-color);\n",
              "    border: none;\n",
              "    border-radius: 50%;\n",
              "    cursor: pointer;\n",
              "    display: none;\n",
              "    fill: var(--fill-color);\n",
              "    height: 32px;\n",
              "    padding: 0;\n",
              "    width: 32px;\n",
              "  }\n",
              "\n",
              "  .colab-df-quickchart:hover {\n",
              "    background-color: var(--hover-bg-color);\n",
              "    box-shadow: 0 1px 2px rgba(60, 64, 67, 0.3), 0 1px 3px 1px rgba(60, 64, 67, 0.15);\n",
              "    fill: var(--button-hover-fill-color);\n",
              "  }\n",
              "\n",
              "  .colab-df-quickchart-complete:disabled,\n",
              "  .colab-df-quickchart-complete:disabled:hover {\n",
              "    background-color: var(--disabled-bg-color);\n",
              "    fill: var(--disabled-fill-color);\n",
              "    box-shadow: none;\n",
              "  }\n",
              "\n",
              "  .colab-df-spinner {\n",
              "    border: 2px solid var(--fill-color);\n",
              "    border-color: transparent;\n",
              "    border-bottom-color: var(--fill-color);\n",
              "    animation:\n",
              "      spin 1s steps(1) infinite;\n",
              "  }\n",
              "\n",
              "  @keyframes spin {\n",
              "    0% {\n",
              "      border-color: transparent;\n",
              "      border-bottom-color: var(--fill-color);\n",
              "      border-left-color: var(--fill-color);\n",
              "    }\n",
              "    20% {\n",
              "      border-color: transparent;\n",
              "      border-left-color: var(--fill-color);\n",
              "      border-top-color: var(--fill-color);\n",
              "    }\n",
              "    30% {\n",
              "      border-color: transparent;\n",
              "      border-left-color: var(--fill-color);\n",
              "      border-top-color: var(--fill-color);\n",
              "      border-right-color: var(--fill-color);\n",
              "    }\n",
              "    40% {\n",
              "      border-color: transparent;\n",
              "      border-right-color: var(--fill-color);\n",
              "      border-top-color: var(--fill-color);\n",
              "    }\n",
              "    60% {\n",
              "      border-color: transparent;\n",
              "      border-right-color: var(--fill-color);\n",
              "    }\n",
              "    80% {\n",
              "      border-color: transparent;\n",
              "      border-right-color: var(--fill-color);\n",
              "      border-bottom-color: var(--fill-color);\n",
              "    }\n",
              "    90% {\n",
              "      border-color: transparent;\n",
              "      border-bottom-color: var(--fill-color);\n",
              "    }\n",
              "  }\n",
              "</style>\n",
              "\n",
              "      <script>\n",
              "        async function quickchart(key) {\n",
              "          const quickchartButtonEl =\n",
              "            document.querySelector('#' + key + ' button');\n",
              "          quickchartButtonEl.disabled = true;  // To prevent multiple clicks.\n",
              "          quickchartButtonEl.classList.add('colab-df-spinner');\n",
              "          try {\n",
              "            const charts = await google.colab.kernel.invokeFunction(\n",
              "                'suggestCharts', [key], {});\n",
              "          } catch (error) {\n",
              "            console.error('Error during call to suggestCharts:', error);\n",
              "          }\n",
              "          quickchartButtonEl.classList.remove('colab-df-spinner');\n",
              "          quickchartButtonEl.classList.add('colab-df-quickchart-complete');\n",
              "        }\n",
              "        (() => {\n",
              "          let quickchartButtonEl =\n",
              "            document.querySelector('#df-604950bd-911e-45a9-8b27-3bc3852b4252 button');\n",
              "          quickchartButtonEl.style.display =\n",
              "            google.colab.kernel.accessAllowed ? 'block' : 'none';\n",
              "        })();\n",
              "      </script>\n",
              "    </div>\n",
              "\n",
              "    </div>\n",
              "  </div>\n"
            ],
            "application/vnd.google.colaboratory.intrinsic+json": {
              "type": "dataframe",
              "summary": "{\n  \"name\": \"df_limpio\",\n  \"rows\": 8,\n  \"fields\": [\n    {\n      \"column\": \"age\",\n      \"properties\": {\n        \"dtype\": \"number\",\n        \"std\": 460.6106090399993,\n        \"min\": 14.049960379216172,\n        \"max\": 1338.0,\n        \"num_unique_values\": 8,\n        \"samples\": [\n          39.20702541106129,\n          39.0,\n          1338.0\n        ],\n        \"semantic_type\": \"\",\n        \"description\": \"\"\n      }\n    },\n    {\n      \"column\": \"bmi\",\n      \"properties\": {\n        \"dtype\": \"number\",\n        \"std\": 463.29524977918294,\n        \"min\": 6.098186911679017,\n        \"max\": 1338.0,\n        \"num_unique_values\": 8,\n        \"samples\": [\n          30.66339686098655,\n          30.4,\n          1338.0\n        ],\n        \"semantic_type\": \"\",\n        \"description\": \"\"\n      }\n    },\n    {\n      \"column\": \"children\",\n      \"properties\": {\n        \"dtype\": \"number\",\n        \"std\": 472.5368318870757,\n        \"min\": 0.0,\n        \"max\": 1338.0,\n        \"num_unique_values\": 7,\n        \"samples\": [\n          1338.0,\n          1.0949177877429,\n          2.0\n        ],\n        \"semantic_type\": \"\",\n        \"description\": \"\"\n      }\n    },\n    {\n      \"column\": \"charges\",\n      \"properties\": {\n        \"dtype\": \"number\",\n        \"std\": 20381.922846226596,\n        \"min\": 1121.8739,\n        \"max\": 63770.42801,\n        \"num_unique_values\": 8,\n        \"samples\": [\n          13270.422265141257,\n          9382.033,\n          1338.0\n        ],\n        \"semantic_type\": \"\",\n        \"description\": \"\"\n      }\n    },\n    {\n      \"column\": \"sex_bin\",\n      \"properties\": {\n        \"dtype\": \"number\",\n        \"std\": 472.85231712114296,\n        \"min\": 0.0,\n        \"max\": 1338.0,\n        \"num_unique_values\": 5,\n        \"samples\": [\n          0.5052316890881914,\n          1.0,\n          0.5001595692843718\n        ],\n        \"semantic_type\": \"\",\n        \"description\": \"\"\n      }\n    },\n    {\n      \"column\": \"smoker_bin\",\n      \"properties\": {\n        \"dtype\": \"number\",\n        \"std\": 472.9733223901744,\n        \"min\": 0.0,\n        \"max\": 1338.0,\n        \"num_unique_values\": 5,\n        \"samples\": [\n          0.20478325859491778,\n          1.0,\n          0.40369403754562083\n        ],\n        \"semantic_type\": \"\",\n        \"description\": \"\"\n      }\n    }\n  ]\n}"
            }
          },
          "metadata": {},
          "execution_count": 73
        }
      ]
    },
    {
      "cell_type": "markdown",
      "source": [
        "#Predecir el coste del seguro médico de una persona\n",
        "\n",
        "Calcular, en función de datos los fisiológicos de sus clientes, cuál va a ser la prima (coste) que debe asumir cada uno de ellos"
      ],
      "metadata": {
        "id": "p7OsWVZlX4Ab"
      }
    },
    {
      "cell_type": "code",
      "source": [
        "import statsmodels.api as sm\n",
        "\n",
        "\n",
        "X = df_limpio[['age', 'bmi', 'children',  'sex_bin',\n",
        "       'smoker_bin']]\n",
        "print(X.dtypes)\n",
        "\n",
        "X = sm.add_constant(X)  # Agrega intercepto\n",
        "\n",
        "# Variable dependiente\n",
        "y = df_limpio['charges']\n",
        "\n",
        "# Ajustar modelo\n",
        "model = sm.OLS(y, X)\n",
        "results = model.fit()\n",
        "\n",
        "print(results.summary())\n",
        "\n",
        "beta_edad = results.params['age']\n",
        "beta_imc = results.params['bmi']\n",
        "beta_hijos = results.params['children']\n",
        "beta_fumar = results.params['smoker_bin']\n",
        "\n",
        "print(f\"Coeficiente edad: {beta_edad}\")\n",
        "print(f\"Coeficiente fumar: {beta_fumar}\")\n",
        "print(f\"Coeficiente hijos: {beta_hijos}\")\n",
        "print(f\"Coeficiente IMC: {beta_imc}\")\n"
      ],
      "metadata": {
        "colab": {
          "base_uri": "https://localhost:8080/"
        },
        "id": "CdBBs__TXWNj",
        "outputId": "3a92d34a-7809-4172-b3a6-d3c4c22f95eb"
      },
      "execution_count": 89,
      "outputs": [
        {
          "output_type": "stream",
          "name": "stdout",
          "text": [
            "age             int64\n",
            "bmi           float64\n",
            "children        int64\n",
            "sex_bin         int64\n",
            "smoker_bin      int64\n",
            "dtype: object\n",
            "                            OLS Regression Results                            \n",
            "==============================================================================\n",
            "Dep. Variable:                charges   R-squared:                       0.750\n",
            "Model:                            OLS   Adj. R-squared:                  0.749\n",
            "Method:                 Least Squares   F-statistic:                     798.0\n",
            "Date:                Thu, 10 Jul 2025   Prob (F-statistic):               0.00\n",
            "Time:                        22:45:47   Log-Likelihood:                -13551.\n",
            "No. Observations:                1338   AIC:                         2.711e+04\n",
            "Df Residuals:                    1332   BIC:                         2.715e+04\n",
            "Df Model:                           5                                         \n",
            "Covariance Type:            nonrobust                                         \n",
            "==============================================================================\n",
            "                 coef    std err          t      P>|t|      [0.025      0.975]\n",
            "------------------------------------------------------------------------------\n",
            "const      -1.205e+04    951.260    -12.670      0.000   -1.39e+04   -1.02e+04\n",
            "age          257.7350     11.904     21.651      0.000     234.383     281.087\n",
            "bmi          322.3642     27.419     11.757      0.000     268.576     376.153\n",
            "children     474.4111    137.856      3.441      0.001     203.973     744.849\n",
            "sex_bin     -128.6399    333.361     -0.386      0.700    -782.609     525.329\n",
            "smoker_bin  2.382e+04    412.523     57.750      0.000     2.3e+04    2.46e+04\n",
            "==============================================================================\n",
            "Omnibus:                      301.103   Durbin-Watson:                   2.087\n",
            "Prob(Omnibus):                  0.000   Jarque-Bera (JB):              720.380\n",
            "Skew:                           1.214   Prob(JB):                    3.73e-157\n",
            "Kurtosis:                       5.650   Cond. No.                         295.\n",
            "==============================================================================\n",
            "\n",
            "Notes:\n",
            "[1] Standard Errors assume that the covariance matrix of the errors is correctly specified.\n",
            "Coeficiente edad: 257.734987669245\n",
            "Coeficiente fumar: 23823.392530652603\n",
            "Coeficiente hijos: 474.4111206126908\n",
            "Coeficiente IMC: 322.3642144860742\n"
          ]
        }
      ]
    },
    {
      "cell_type": "code",
      "source": [
        "import seaborn as sns\n",
        "import matplotlib.pyplot as plt\n",
        "\n",
        "# Solo columnas numéricas\n",
        "corr = df_limpio.corr(numeric_only=True)\n",
        "\n",
        "plt.figure(figsize=(8, 6))\n",
        "sns.heatmap(corr, annot=True, cmap='coolwarm', fmt=\".2f\", square=True)\n",
        "plt.title(\"Matriz de correlación\")"
      ],
      "metadata": {
        "colab": {
          "base_uri": "https://localhost:8080/",
          "height": 670
        },
        "id": "r-dWZyzNdKa0",
        "outputId": "ef83b828-b72e-42c7-ebbd-af9f36091f7d"
      },
      "execution_count": 85,
      "outputs": [
        {
          "output_type": "execute_result",
          "data": {
            "text/plain": [
              "Text(0.5, 1.0, 'Matriz de correlación')"
            ]
          },
          "metadata": {},
          "execution_count": 85
        },
        {
          "output_type": "display_data",
          "data": {
            "text/plain": [
              "<Figure size 800x600 with 2 Axes>"
            ],
            "image/png": "[encoded data removed]"
          },
          "metadata": {}
        }
      ]
    },
    {
      "cell_type": "code",
      "source": [
        "df_limpio['children_sex'] = df_limpio['children'] * df_limpio['sex_bin']\n",
        "\n",
        "X = df_limpio[['age', 'bmi', 'children', 'sex_bin', 'smoker_bin', 'children_sex']]\n",
        "y = df_limpio['charges']\n",
        "\n",
        "X = sm.add_constant(X)\n",
        "model = sm.OLS(y, X).fit()\n",
        "print(model.summary())\n"
      ],
      "metadata": {
        "colab": {
          "base_uri": "https://localhost:8080/"
        },
        "id": "GaORy4uFd1TU",
        "outputId": "2a30f3ef-f7f8-46de-ee24-91432ca1a32d"
      },
      "execution_count": 88,
      "outputs": [
        {
          "output_type": "stream",
          "name": "stdout",
          "text": [
            "                            OLS Regression Results                            \n",
            "==============================================================================\n",
            "Dep. Variable:                charges   R-squared:                       0.750\n",
            "Model:                            OLS   Adj. R-squared:                  0.749\n",
            "Method:                 Least Squares   F-statistic:                     664.5\n",
            "Date:                Thu, 10 Jul 2025   Prob (F-statistic):               0.00\n",
            "Time:                        22:34:26   Log-Likelihood:                -13551.\n",
            "No. Observations:                1338   AIC:                         2.712e+04\n",
            "Df Residuals:                    1331   BIC:                         2.715e+04\n",
            "Df Model:                           6                                         \n",
            "Covariance Type:            nonrobust                                         \n",
            "================================================================================\n",
            "                   coef    std err          t      P>|t|      [0.025      0.975]\n",
            "--------------------------------------------------------------------------------\n",
            "const        -1.204e+04    961.038    -12.529      0.000   -1.39e+04   -1.02e+04\n",
            "age            257.7707     11.915     21.634      0.000     234.396     281.145\n",
            "bmi            322.3792     27.429     11.753      0.000     268.570     376.189\n",
            "children       461.7674    198.448      2.327      0.020      72.463     851.072\n",
            "sex_bin       -155.3151    449.277     -0.346      0.730   -1036.682     726.052\n",
            "smoker_bin    2.382e+04    412.845     57.703      0.000     2.3e+04    2.46e+04\n",
            "children_sex    24.4534    275.985      0.089      0.929    -516.959     565.866\n",
            "==============================================================================\n",
            "Omnibus:                      301.188   Durbin-Watson:                   2.087\n",
            "Prob(Omnibus):                  0.000   Jarque-Bera (JB):              720.702\n",
            "Skew:                           1.215   Prob(JB):                    3.17e-157\n",
            "Kurtosis:                       5.651   Cond. No.                         299.\n",
            "==============================================================================\n",
            "\n",
            "Notes:\n",
            "[1] Standard Errors assume that the covariance matrix of the errors is correctly specified.\n"
          ]
        }
      ]
    }
  ]
}